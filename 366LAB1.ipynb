{
  "nbformat": 4,
  "nbformat_minor": 0,
  "metadata": {
    "colab": {
      "provenance": [],
      "authorship_tag": "ABX9TyNEuKOX8gLEo9Mn6Wqca6LK"
    },
    "kernelspec": {
      "name": "python3",
      "display_name": "Python 3"
    },
    "language_info": {
      "name": "python"
    }
  },
  "cells": [
    {
      "cell_type": "code",
      "source": [
        "from google.colab import drive\n",
        "drive.mount('/content/drive')"
      ],
      "metadata": {
        "colab": {
          "base_uri": "https://localhost:8080/"
        },
        "id": "lu-p-5OZNOOE",
        "outputId": "39926da4-5143-4c18-8926-0bb4f87f2cb0"
      },
      "execution_count": null,
      "outputs": [
        {
          "output_type": "stream",
          "name": "stdout",
          "text": [
            "Mounted at /content/drive\n"
          ]
        }
      ]
    },
    {
      "cell_type": "code",
      "source": [
        "import random\n",
        "def read_student_ids(filename):\n",
        "    try:\n",
        "        with open(filename, 'r') as file:\n",
        "            student_ids = [line.strip() for line in file if line.strip()]\n",
        "        return student_ids\n",
        "    except FileNotFoundError:\n",
        "        print(f\"Error: The file '{filename}' was not found.\")\n",
        "        return []\n",
        "\n",
        "filename = '/content/drive/MyDrive/CSE366_LAB1/ids.txt'\n",
        "print(read_student_ids(filename))"
      ],
      "metadata": {
        "colab": {
          "base_uri": "https://localhost:8080/"
        },
        "id": "tnQXJjhlNXz7",
        "outputId": "0bca904a-ab56-4248-c2f4-e8e5e3914611"
      },
      "execution_count": null,
      "outputs": [
        {
          "output_type": "stream",
          "name": "stdout",
          "text": [
            "['2021-2-60-015', '2021-2-60-120', '2021-1-60-049', '2021-3-10-123', '2023-1-60-192', '2024-1-60-455', '2020-9-40-069', '2021-2-60-016', '2021-2-60-017', '2021-2-60-018']\n"
          ]
        }
      ]
    },
    {
      "cell_type": "code",
      "source": [
        "def conduct_viva(student_ids):\n",
        "    unselected_students = student_ids[:]  # Copy for unselected students\n",
        "    viva_count = 1\n",
        "\n",
        "    while unselected_students:\n",
        "        selected_student = random.choice(unselected_students)\n",
        "        print(f\"Viva #{viva_count}: {selected_student}\")\n",
        "        unselected_students.remove(selected_student)\n",
        "        viva_count += 1\n",
        "\n",
        "    print(\"\\nAll students have been selected for the viva.\")\n",
        "\n",
        "student_ids = read_student_ids(filename)\n",
        "\n",
        "if student_ids:\n",
        "  conduct_viva(student_ids)\n",
        "  print(\"\\nResetting the list for another round.\")\n",
        "  # restored list\n",
        "  print(\"Restored List:\", student_ids)"
      ],
      "metadata": {
        "id": "p1d_uVEuN1WS",
        "colab": {
          "base_uri": "https://localhost:8080/"
        },
        "outputId": "53e1f8ef-62f2-4ca1-80c3-cd99b0837425"
      },
      "execution_count": null,
      "outputs": [
        {
          "output_type": "stream",
          "name": "stdout",
          "text": [
            "Viva #1: 2023-1-60-192\n",
            "Viva #2: 2021-2-60-017\n",
            "Viva #3: 2021-2-60-015\n",
            "Viva #4: 2024-1-60-455\n",
            "Viva #5: 2021-2-60-016\n",
            "Viva #6: 2021-1-60-049\n",
            "Viva #7: 2020-9-40-069\n",
            "Viva #8: 2021-2-60-120\n",
            "Viva #9: 2021-3-10-123\n",
            "Viva #10: 2021-2-60-018\n",
            "\n",
            "All students have been selected for the viva.\n",
            "\n",
            "Resetting the list for another round.\n",
            "Restored List: ['2021-2-60-015', '2021-2-60-120', '2021-1-60-049', '2021-3-10-123', '2023-1-60-192', '2024-1-60-455', '2020-9-40-069', '2021-2-60-016', '2021-2-60-017', '2021-2-60-018']\n"
          ]
        }
      ]
    }
  ]
}